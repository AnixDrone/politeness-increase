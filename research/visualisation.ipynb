{
 "cells": [
  {
   "cell_type": "code",
   "execution_count": 54,
   "metadata": {},
   "outputs": [],
   "source": [
    "import pandas as pd\n",
    "import numpy as np\n",
    "import matplotlib.pyplot as plt\n",
    "import seaborn as sns\n",
    "from tqdm import tqdm\n",
    "import ast"
   ]
  },
  {
   "cell_type": "code",
   "execution_count": 55,
   "metadata": {},
   "outputs": [],
   "source": [
    "filename='p_9_df.csv'"
   ]
  },
  {
   "cell_type": "code",
   "execution_count": 56,
   "metadata": {},
   "outputs": [],
   "source": [
    "df=pd.read_csv(filename)\n",
    "df=df.drop('Unnamed: 0',axis=1)"
   ]
  },
  {
   "cell_type": "code",
   "execution_count": 57,
   "metadata": {},
   "outputs": [
    {
     "data": {
      "text/html": [
       "<div>\n",
       "<style scoped>\n",
       "    .dataframe tbody tr th:only-of-type {\n",
       "        vertical-align: middle;\n",
       "    }\n",
       "\n",
       "    .dataframe tbody tr th {\n",
       "        vertical-align: top;\n",
       "    }\n",
       "\n",
       "    .dataframe thead th {\n",
       "        text-align: right;\n",
       "    }\n",
       "</style>\n",
       "<table border=\"1\" class=\"dataframe\">\n",
       "  <thead>\n",
       "    <tr style=\"text-align: right;\">\n",
       "      <th></th>\n",
       "      <th>txt</th>\n",
       "      <th>style</th>\n",
       "      <th>split</th>\n",
       "      <th>tokenized_txt</th>\n",
       "    </tr>\n",
       "  </thead>\n",
       "  <tbody>\n",
       "    <tr>\n",
       "      <th>0</th>\n",
       "      <td>louise - i 'm already booked for friday mornin...</td>\n",
       "      <td>P_9</td>\n",
       "      <td>train</td>\n",
       "      <td>['louise', 'already', 'booked', 'friday', 'mor...</td>\n",
       "    </tr>\n",
       "    <tr>\n",
       "      <th>1</th>\n",
       "      <td>please get back to me if you have any addition...</td>\n",
       "      <td>P_9</td>\n",
       "      <td>train</td>\n",
       "      <td>['please', 'get', 'back', 'additional', 'conce...</td>\n",
       "    </tr>\n",
       "    <tr>\n",
       "      <th>2</th>\n",
       "      <td>i am enclosing the revised confirmation with t...</td>\n",
       "      <td>P_9</td>\n",
       "      <td>train</td>\n",
       "      <td>['enclosing', 'revised', 'confirmation', 'two'...</td>\n",
       "    </tr>\n",
       "    <tr>\n",
       "      <th>3</th>\n",
       "      <td>i have received the email below and have only ...</td>\n",
       "      <td>P_9</td>\n",
       "      <td>train</td>\n",
       "      <td>['received', 'email', 'two', 'minor', 'comment...</td>\n",
       "    </tr>\n",
       "    <tr>\n",
       "      <th>4</th>\n",
       "      <td>i do not think there will be any issues and sh...</td>\n",
       "      <td>P_9</td>\n",
       "      <td>test</td>\n",
       "      <td>['think', 'issues', 'ready', 'tomorrow', 'poss...</td>\n",
       "    </tr>\n",
       "  </tbody>\n",
       "</table>\n",
       "</div>"
      ],
      "text/plain": [
       "                                                 txt style  split  \\\n",
       "0  louise - i 'm already booked for friday mornin...   P_9  train   \n",
       "1  please get back to me if you have any addition...   P_9  train   \n",
       "2  i am enclosing the revised confirmation with t...   P_9  train   \n",
       "3  i have received the email below and have only ...   P_9  train   \n",
       "4  i do not think there will be any issues and sh...   P_9   test   \n",
       "\n",
       "                                       tokenized_txt  \n",
       "0  ['louise', 'already', 'booked', 'friday', 'mor...  \n",
       "1  ['please', 'get', 'back', 'additional', 'conce...  \n",
       "2  ['enclosing', 'revised', 'confirmation', 'two'...  \n",
       "3  ['received', 'email', 'two', 'minor', 'comment...  \n",
       "4  ['think', 'issues', 'ready', 'tomorrow', 'poss...  "
      ]
     },
     "execution_count": 57,
     "metadata": {},
     "output_type": "execute_result"
    }
   ],
   "source": [
    "df.head()"
   ]
  },
  {
   "cell_type": "code",
   "execution_count": 58,
   "metadata": {},
   "outputs": [
    {
     "name": "stderr",
     "output_type": "stream",
     "text": [
      "100%|██████████| 273772/273772 [00:27<00:00, 10028.15it/s]\n"
     ]
    }
   ],
   "source": [
    "corpus=dict()\n",
    "for index,row in tqdm(df.iterrows(),total=df.shape[0]):\n",
    "    #print(ast.literal_eval(row['tokenized_txt'])[1])\n",
    "    for word in ast.literal_eval(row['tokenized_txt']):\n",
    "        #print(word)\n",
    "        if word not in corpus.keys():\n",
    "            corpus[word] = 1\n",
    "        else:\n",
    "            corpus[word] += 1"
   ]
  },
  {
   "cell_type": "code",
   "execution_count": 59,
   "metadata": {},
   "outputs": [],
   "source": [
    "word_count=[(w ,corpus[w] ) for w in corpus.keys()]"
   ]
  },
  {
   "cell_type": "code",
   "execution_count": 60,
   "metadata": {},
   "outputs": [],
   "source": [
    "word_count.sort(key = lambda x: -x[1])"
   ]
  },
  {
   "cell_type": "code",
   "execution_count": 65,
   "metadata": {},
   "outputs": [],
   "source": [
    "bigest_n=30\n",
    "words=[x[0] for x in word_count[:bigest_n]]\n",
    "count=[x[1] for x in word_count[:bigest_n]]"
   ]
  },
  {
   "cell_type": "code",
   "execution_count": 66,
   "metadata": {},
   "outputs": [
    {
     "data": {
      "text/plain": [
       "<AxesSubplot:>"
      ]
     },
     "execution_count": 66,
     "metadata": {},
     "output_type": "execute_result"
    },
    {
     "data": {
      "image/png": "[encoded data removed]",
      "text/plain": [
       "<Figure size 432x288 with 1 Axes>"
      ]
     },
     "metadata": {
      "needs_background": "light"
     },
     "output_type": "display_data"
    }
   ],
   "source": [
    "sns.barplot(y=words,x=count)"
   ]
  },
  {
   "cell_type": "code",
   "execution_count": null,
   "metadata": {},
   "outputs": [],
   "source": []
  }
 ],
 "metadata": {
  "interpreter": {
   "hash": "05e3e59f88218c064fd561300dd61f0a9367987eaf74079b9da442af3d7a7f15"
  },
  "kernelspec": {
   "display_name": "Python 3.8.12 ('nlp')",
   "language": "python",
   "name": "python3"
  },
  "language_info": {
   "codemirror_mode": {
    "name": "ipython",
    "version": 3
   },
   "file_extension": ".py",
   "mimetype": "text/x-python",
   "name": "python",
   "nbconvert_exporter": "python",
   "pygments_lexer": "ipython3",
   "version": "3.8.12"
  },
  "orig_nbformat": 4
 },
 "nbformat": 4,
 "nbformat_minor": 2
}
