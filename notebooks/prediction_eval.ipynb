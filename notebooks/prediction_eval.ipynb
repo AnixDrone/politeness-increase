{
 "cells": [
  {
   "cell_type": "code",
   "execution_count": 1,
   "metadata": {},
   "outputs": [
    {
     "name": "stderr",
     "output_type": "stream",
     "text": [
      "/home/tignjatov/anaconda3/envs/ml/lib/python3.6/site-packages/tqdm/auto.py:22: TqdmWarning: IProgress not found. Please update jupyter and ipywidgets. See https://ipywidgets.readthedocs.io/en/stable/user_install.html\n",
      "  from .autonotebook import tqdm as notebook_tqdm\n"
     ]
    }
   ],
   "source": [
    "import pandas as pd\n",
    "from torchtext.data.metrics import bleu_score\n",
    "from rouge import Rouge\n",
    "from torchtext.data.utils import get_tokenizer\n",
    "import numpy as np"
   ]
  },
  {
   "cell_type": "code",
   "execution_count": 2,
   "metadata": {},
   "outputs": [],
   "source": [
    "df_json = pd.read_json('results2_pad3/11_08-2022_19_50_28_predictions.json')"
   ]
  },
  {
   "cell_type": "code",
   "execution_count": 3,
   "metadata": {},
   "outputs": [
    {
     "data": {
      "text/html": [
       "<div>\n",
       "<style scoped>\n",
       "    .dataframe tbody tr th:only-of-type {\n",
       "        vertical-align: middle;\n",
       "    }\n",
       "\n",
       "    .dataframe tbody tr th {\n",
       "        vertical-align: top;\n",
       "    }\n",
       "\n",
       "    .dataframe thead th {\n",
       "        text-align: right;\n",
       "    }\n",
       "</style>\n",
       "<table border=\"1\" class=\"dataframe\">\n",
       "  <thead>\n",
       "    <tr style=\"text-align: right;\">\n",
       "      <th></th>\n",
       "      <th>input_data</th>\n",
       "      <th>output_data</th>\n",
       "      <th>predicted</th>\n",
       "    </tr>\n",
       "  </thead>\n",
       "  <tbody>\n",
       "    <tr>\n",
       "      <th>0</th>\n",
       "      <td>i do not think there will be any issues and or...</td>\n",
       "      <td>i do not think there will be any issues and sh...</td>\n",
       "      <td>i do not think there will be any late afterno...</td>\n",
       "    </tr>\n",
       "    <tr>\n",
       "      <th>1</th>\n",
       "      <td>it through concord is 90,000dth between niagar...</td>\n",
       "      <td>it through concord is available for 90,000dth ...</td>\n",
       "      <td>it is 100 , 000 dth through concord is availa...</td>\n",
       "    </tr>\n",
       "    <tr>\n",
       "      <th>2</th>\n",
       "      <td>we are posting 50,000 dth excess injection on ...</td>\n",
       "      <td>we are posting 50,000 dth excess injection on ...</td>\n",
       "      <td>we are already seen 50 , 000 dth on either si...</td>\n",
       "    </tr>\n",
       "    <tr>\n",
       "      <th>3</th>\n",
       "      <td>i to remind you that our firm transport open s...</td>\n",
       "      <td>i also want to remind you that our firm transp...</td>\n",
       "      <td>i want to remind you that our firm transport ...</td>\n",
       "    </tr>\n",
       "    <tr>\n",
       "      <th>4</th>\n",
       "      <td>sales representative detail our website .</td>\n",
       "      <td>please call your firm sales representative for...</td>\n",
       "      <td>please contact your client representative if ...</td>\n",
       "    </tr>\n",
       "  </tbody>\n",
       "</table>\n",
       "</div>"
      ],
      "text/plain": [
       "                                          input_data  \\\n",
       "0  i do not think there will be any issues and or...   \n",
       "1  it through concord is 90,000dth between niagar...   \n",
       "2  we are posting 50,000 dth excess injection on ...   \n",
       "3  i to remind you that our firm transport open s...   \n",
       "4          sales representative detail our website .   \n",
       "\n",
       "                                         output_data  \\\n",
       "0  i do not think there will be any issues and sh...   \n",
       "1  it through concord is available for 90,000dth ...   \n",
       "2  we are posting 50,000 dth excess injection on ...   \n",
       "3  i also want to remind you that our firm transp...   \n",
       "4  please call your firm sales representative for...   \n",
       "\n",
       "                                           predicted  \n",
       "0   i do not think there will be any late afterno...  \n",
       "1   it is 100 , 000 dth through concord is availa...  \n",
       "2   we are already seen 50 , 000 dth on either si...  \n",
       "3   i want to remind you that our firm transport ...  \n",
       "4   please contact your client representative if ...  "
      ]
     },
     "execution_count": 3,
     "metadata": {},
     "output_type": "execute_result"
    }
   ],
   "source": [
    "df_json.head()"
   ]
  },
  {
   "cell_type": "code",
   "execution_count": 4,
   "metadata": {},
   "outputs": [],
   "source": [
    "tokenizer = get_tokenizer('basic_english')"
   ]
  },
  {
   "cell_type": "code",
   "execution_count": 5,
   "metadata": {},
   "outputs": [],
   "source": [
    "input_sent = [tokenizer(sent) for sent in df_json['input_data'].to_list()]\n",
    "out_sent = [tokenizer(sent) for sent in df_json['output_data'].to_list()]\n",
    "pred_sent = [[tokenizer(sent)] for sent in df_json['predicted'].to_list()]"
   ]
  },
  {
   "cell_type": "code",
   "execution_count": 6,
   "metadata": {},
   "outputs": [
    {
     "data": {
      "text/plain": [
       "0.36197060346603394"
      ]
     },
     "execution_count": 6,
     "metadata": {},
     "output_type": "execute_result"
    }
   ],
   "source": [
    "bleu_score(out_sent, pred_sent)"
   ]
  },
  {
   "cell_type": "code",
   "execution_count": 7,
   "metadata": {},
   "outputs": [
    {
     "data": {
      "text/plain": [
       "0.35025243198908546"
      ]
     },
     "execution_count": 7,
     "metadata": {},
     "output_type": "execute_result"
    }
   ],
   "source": [
    "bleu_score(input_sent, pred_sent"
   ]
  },
  {
   "cell_type": "code",
   "execution_count": 8,
   "metadata": {},
   "outputs": [],
   "source": [
    "rouge = Rouge()\n",
    "df_json['len_input'] = df_json['input_data'].apply(lambda x: len(x.split()))\n",
    "non_empty_df = df_json[df_json['len_input'] > 0]\n",
    "\n",
    "scores_input_pred= rouge.get_scores(non_empty_df['input_data'].to_list()[:100],  non_empty_df['predicted'].to_list()[:100],avg=True)\n",
    "scores_output_pred = rouge.get_scores(non_empty_df['output_data'].to_list(), non_empty_df['predicted'].to_list(),avg=True)"
   ]
  },
  {
   "cell_type": "code",
   "execution_count": 9,
   "metadata": {},
   "outputs": [
    {
     "data": {
      "text/plain": [
       "{'rouge-1': {'r': 0.7526841708563068,\n",
       "  'p': 0.7069992501722718,\n",
       "  'f': 0.7241738724294259},\n",
       " 'rouge-2': {'r': 0.424803789350999,\n",
       "  'p': 0.40949405897994506,\n",
       "  'f': 0.4139323971778337},\n",
       " 'rouge-l': {'r': 0.6425199898300068,\n",
       "  'p': 0.6055631924695283,\n",
       "  'f': 0.6192035462185088}}"
      ]
     },
     "execution_count": 9,
     "metadata": {},
     "output_type": "execute_result"
    }
   ],
   "source": [
    "scores_output_pred"
   ]
  },
  {
   "cell_type": "code",
   "execution_count": null,
   "metadata": {},
   "outputs": [],
   "source": []
  }
 ],
 "metadata": {
  "kernelspec": {
   "display_name": "Python 3.6.13 ('ml')",
   "language": "python",
   "name": "python3"
  },
  "language_info": {
   "codemirror_mode": {
    "name": "ipython",
    "version": 3
   },
   "file_extension": ".py",
   "mimetype": "text/x-python",
   "name": "python",
   "nbconvert_exporter": "python",
   "pygments_lexer": "ipython3",
   "version": "3.6.13"
  },
  "orig_nbformat": 4,
  "vscode": {
   "interpreter": {
    "hash": "e52387336156db6d881f08b29d2996eae333b560bff7fc97cb6248ede68f9d47"
   }
  }
 },
 "nbformat": 4,
 "nbformat_minor": 2
}
